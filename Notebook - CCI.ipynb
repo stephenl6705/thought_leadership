{
 "cells": [
  {
   "cell_type": "code",
   "execution_count": 17,
   "metadata": {
    "collapsed": true
   },
   "outputs": [],
   "source": [
    "import pandas as pd\n",
    "import numpy as np\n",
    "import os\n",
    "import matplotlib as plt\n",
    "%matplotlib inline"
   ]
  },
  {
   "cell_type": "code",
   "execution_count": 8,
   "metadata": {
    "collapsed": false
   },
   "outputs": [
    {
     "data": {
      "text/plain": [
       "'/home/langestrst01/projects/thought_leadership'"
      ]
     },
     "execution_count": 8,
     "metadata": {},
     "output_type": "execute_result"
    }
   ],
   "source": [
    "os.getcwd()"
   ]
  },
  {
   "cell_type": "code",
   "execution_count": 9,
   "metadata": {
    "collapsed": false
   },
   "outputs": [
    {
     "data": {
      "text/plain": [
       "'/home/langestrst01/projects/thought_leadership'"
      ]
     },
     "execution_count": 9,
     "metadata": {},
     "output_type": "execute_result"
    }
   ],
   "source": [
    "%pwd"
   ]
  },
  {
   "cell_type": "code",
   "execution_count": 38,
   "metadata": {
    "collapsed": false
   },
   "outputs": [
    {
     "name": "stdout",
     "output_type": "stream",
     "text": [
      "cciOutTOTAL.csv  \u001b[0m\u001b[01;34mFiles EIU\u001b[0m/             \u001b[01;34mR_Code\u001b[0m/\r\n",
      "\u001b[01;31mcciOutTOTAL.zip\u001b[0m  \u001b[01;34mFiles Worldbank\u001b[0m/       README.md\r\n",
      "\u001b[01;34mDashboard\u001b[0m/       long_CCI.csv           thought_leadership.Rproj\r\n",
      "\u001b[01;34mfilescci\u001b[0m/        Notebook - CCI.ipynb\r\n",
      "\u001b[01;34mFiles CCI\u001b[0m/       Notebook - SPSS.ipynb\r\n",
      "\u001b[m"
     ]
    }
   ],
   "source": [
    "%ls"
   ]
  },
  {
   "cell_type": "code",
   "execution_count": 43,
   "metadata": {
    "collapsed": false
   },
   "outputs": [],
   "source": [
    "data = pd.read_csv(\"/Files OUTPUT/cciOutGLOBAL.csv\")"
   ]
  },
  {
   "cell_type": "code",
   "execution_count": 41,
   "metadata": {
    "collapsed": false
   },
   "outputs": [
    {
     "data": {
      "text/plain": [
       "<bound method NDFrame.head of           Unnamed: 0  region  year quarter category  \\\n",
       "1                  2      AP  2011      Q1      CCI   \n",
       "2                  3      AP  2011      Q1      CCI   \n",
       "3                  4      AP  2011      Q1      CCI   \n",
       "4                  5      AP  2011      Q1      CCI   \n",
       "5                  6      AP  2011      Q1      CCI   \n",
       "6                  7      AP  2011      Q1      CCI   \n",
       "7                  8      AP  2011      Q1      CCI   \n",
       "8                  9      AP  2011      Q1      CCI   \n",
       "9                 10      AP  2011      Q1      CCI   \n",
       "10                11      AP  2011      Q1      CCI   \n",
       "11                12      AP  2011      Q1      CCI   \n",
       "12                13      AP  2011      Q1      CCI   \n",
       "13                14      AP  2011      Q1      CCI   \n",
       "14                15      AP  2011      Q1      CCI   \n",
       "15                16      AP  2011      Q1      CCI   \n",
       "16                17      AP  2011      Q1      CCI   \n",
       "17                18      AP  2011      Q1      CCI   \n",
       "18                19      AP  2011      Q1      CCI   \n",
       "19                20      AP  2011      Q1      CCI   \n",
       "20                21      AP  2011      Q1      CCI   \n",
       "21                22      AP  2011      Q1      CCI   \n",
       "22                23      AP  2011      Q1      CCI   \n",
       "23                24      AP  2011      Q1      CCI   \n",
       "24                25      AP  2011      Q1      CCI   \n",
       "25                26      AP  2011      Q1      CCI   \n",
       "26                27      AP  2011      Q1      CCI   \n",
       "27                28      AP  2011      Q1      CCI   \n",
       "28                29      AP  2011      Q1      CCI   \n",
       "29                30      AP  2011      Q1      CCI   \n",
       "30                31      AP  2011      Q1      CCI   \n",
       "...              ...     ...   ...     ...      ...   \n",
       "10461957    10461958  REGION  2015      Q4      CCI   \n",
       "10461958    10461959  REGION  2015      Q4      CCI   \n",
       "10461959    10461960  REGION  2015      Q4      CCI   \n",
       "10461960    10461961  REGION  2015      Q4      CCI   \n",
       "10461961    10461962  REGION  2015      Q4      CCI   \n",
       "10461962    10461963  REGION  2015      Q4      CCI   \n",
       "10461963    10461964  REGION  2015      Q4      CCI   \n",
       "10461964    10461965  REGION  2015      Q4      CCI   \n",
       "10461965    10461966  REGION  2015      Q4      CCI   \n",
       "10461966    10461967  REGION  2015      Q4      CCI   \n",
       "10461967    10461968  REGION  2015      Q4      CCI   \n",
       "10461968    10461969  REGION  2015      Q4      CCI   \n",
       "10461969    10461970  REGION  2015      Q4      CCI   \n",
       "10461970    10461971  REGION  2015      Q4      CCI   \n",
       "10461971    10461972  REGION  2015      Q4      CCI   \n",
       "10461972    10461973  REGION  2015      Q4      CCI   \n",
       "10461973    10461974  REGION  2015      Q4      CCI   \n",
       "10461974    10461975  REGION  2015      Q4      CCI   \n",
       "10461975    10461976  REGION  2015      Q4      CCI   \n",
       "10461976    10461977  REGION  2015      Q4      CCI   \n",
       "10461977    10461978  REGION  2015      Q4      CCI   \n",
       "10461978    10461979  REGION  2015      Q4      CCI   \n",
       "10461979    10461980  REGION  2015      Q4      CCI   \n",
       "10461980    10461981  REGION  2015      Q4      CCI   \n",
       "10461981    10461982  REGION  2015      Q4      CCI   \n",
       "10461982    10461983  REGION  2015      Q4      CCI   \n",
       "10461983    10461984  REGION  2015      Q4      CCI   \n",
       "10461984    10461985  REGION  2015      Q4      CCI   \n",
       "10461985    10461986  REGION  2015      Q4      CCI   \n",
       "10461986    10461987  REGION  2015      Q4      CCI   \n",
       "\n",
       "                                                   question question_sub  \\\n",
       "1                          Index. CONSUMER CONFIDENCE INDEX         None   \n",
       "2                          Index. CONSUMER CONFIDENCE INDEX         None   \n",
       "3                                                   Q1. Age         None   \n",
       "4                                                   Q1. Age         None   \n",
       "5                                                   Q1. Age         None   \n",
       "6                                                   Q1. Age         None   \n",
       "7                                                   Q1. Age         None   \n",
       "8                                                   Q1. Age         None   \n",
       "9                                                   Q1. Age         None   \n",
       "10                                                  Q1. Age         None   \n",
       "11                                                  Q1. Age         None   \n",
       "12                                                  Q1. Age         None   \n",
       "13                                                  Q1. Age         None   \n",
       "14                                                  Q1. Age         None   \n",
       "15                                                  Q1. Age         None   \n",
       "16                                                  Q1. Age         None   \n",
       "17                                                  Q1. Age         None   \n",
       "18                                               Q2. Gender         None   \n",
       "19                                               Q2. Gender         None   \n",
       "20                                               Q2. Gender         None   \n",
       "21                                               Q2. Gender         None   \n",
       "22                                               Q2. Gender         None   \n",
       "23        Q3. Do you think job prospects in your country...         None   \n",
       "24        Q3. Do you think job prospects in your country...         None   \n",
       "25        Q3. Do you think job prospects in your country...         None   \n",
       "26        Q3. Do you think job prospects in your country...         None   \n",
       "27        Q3. Do you think job prospects in your country...         None   \n",
       "28        Q3. Do you think job prospects in your country...         None   \n",
       "29        Q3. Do you think job prospects in your country...         None   \n",
       "30        Q3. Do you think job prospects in your country...         None   \n",
       "...                                                     ...          ...   \n",
       "10461957  q13csum. If your monthly budget decreased by 1...         None   \n",
       "10461958  Q14. How would you rate the present general bu...         None   \n",
       "10461959  Q14. How would you rate the present general bu...         None   \n",
       "10461960  Q14. How would you rate the present general bu...         None   \n",
       "10461961  Q14. How would you rate the present general bu...         None   \n",
       "10461962  Q14. How would you rate the present general bu...         None   \n",
       "10461963  Q14. How would you rate the present general bu...         None   \n",
       "10461964  Q14. How would you rate the present general bu...         None   \n",
       "10461965  Q14. How would you rate the present general bu...         None   \n",
       "10461966  Q15. What would you say about available jobs i...         None   \n",
       "10461967  Q15. What would you say about available jobs i...         None   \n",
       "10461968  Q15. What would you say about available jobs i...         None   \n",
       "10461969  Q15. What would you say about available jobs i...         None   \n",
       "10461970  Q15. What would you say about available jobs i...         None   \n",
       "10461971  Q15. What would you say about available jobs i...         None   \n",
       "10461972  Q15. What would you say about available jobs i...         None   \n",
       "10461973  Q15. What would you say about available jobs i...         None   \n",
       "10461974  Q16. Which of the following categories best de...         None   \n",
       "10461975  Q16. Which of the following categories best de...         None   \n",
       "10461976  Q16. Which of the following categories best de...         None   \n",
       "10461977  Q16. Which of the following categories best de...         None   \n",
       "10461978  Q16. Which of the following categories best de...         None   \n",
       "10461979  Q16. Which of the following categories best de...         None   \n",
       "10461980  Q16. Which of the following categories best de...         None   \n",
       "10461981  Q16. Which of the following categories best de...         None   \n",
       "10461982  Q16. Which of the following categories best de...         None   \n",
       "10461983  Q16. Which of the following categories best de...         None   \n",
       "10461984  Q16. Which of the following categories best de...         None   \n",
       "10461985  Q16. Which of the following categories best de...         None   \n",
       "10461986  Q16. Which of the following categories best de...         None   \n",
       "\n",
       "              stat                    base                      Response  \\\n",
       "1          summary  Base: All Respondents           Base : Wtd(In ' 000)   \n",
       "2         Response  Base: All Respondents                  Average Index   \n",
       "3          summary  Base: All respondents                   Base : Unwtd   \n",
       "4          summary  Base: All respondents           Base : Wtd(In ' 000)   \n",
       "5         Response  Base: All respondents                          15-17   \n",
       "6         Response  Base: All respondents                          18-20   \n",
       "7         Response  Base: All respondents                          21-24   \n",
       "8         Response  Base: All respondents                          25-29   \n",
       "9         Response  Base: All respondents                          30-34   \n",
       "10        Response  Base: All respondents                          35-39   \n",
       "11        Response  Base: All respondents                          40-44   \n",
       "12        Response  Base: All respondents                          45-49   \n",
       "13        Response  Base: All respondents                          50-54   \n",
       "14        Response  Base: All respondents                          55-59   \n",
       "15        Response  Base: All respondents                          60-64   \n",
       "16        Response  Base: All respondents                    65 and over   \n",
       "17         summary  Base: All respondents                            Sum   \n",
       "18         summary  Base: All respondents                   Base : Unwtd   \n",
       "19         summary  Base: All respondents           Base : Wtd(In ' 000)   \n",
       "20        Response  Base: All respondents                           Male   \n",
       "21        Response  Base: All respondents                         Female   \n",
       "22         summary  Base: All respondents                            Sum   \n",
       "23         summary  Base: All respondents                   Base : Unwtd   \n",
       "24         summary  Base: All respondents           Base : Wtd(In ' 000)   \n",
       "25        Response  Base: All respondents                  Excellent [4]   \n",
       "26        Response  Base: All respondents                       Good [3]   \n",
       "27        Response  Base: All respondents                Not so good [2]   \n",
       "28        Response  Base: All respondents                        Bad [1]   \n",
       "29        Response  Base: All respondents             Don't know [Nofac]   \n",
       "30         summary  Base: All respondents                            Sum   \n",
       "...            ...                     ...                           ...   \n",
       "10461957  Response  Base: All respondents                  (R13)   Other   \n",
       "10461958   summary  Base: All respondents                   Base : Unwtd   \n",
       "10461959   summary  Base: All respondents           Base : Wtd(In ' 000)   \n",
       "10461960  Response  Base: All respondents                     [[3]] Good   \n",
       "10461961  Response  Base: All respondents                   [[2]] Normal   \n",
       "10461962  Response  Base: All respondents                      [[1]] Bad   \n",
       "10461963   summary  Base: All respondents                            Sum   \n",
       "10461964   summary  Base: All respondents                           Mean   \n",
       "10461965   summary  Base: All respondents                           S.D.   \n",
       "10461966   summary  Base: All respondents                   Base : Unwtd   \n",
       "10461967   summary  Base: All respondents           Base : Wtd(In ' 000)   \n",
       "10461968  Response  Base: All respondents                   [[3]] Plenty   \n",
       "10461969  Response  Base: All respondents              [[2]] Not so many   \n",
       "10461970  Response  Base: All respondents              [[1]] Hard to get   \n",
       "10461971   summary  Base: All respondents                            Sum   \n",
       "10461972   summary  Base: All respondents                           Mean   \n",
       "10461973   summary  Base: All respondents                           S.D.   \n",
       "10461974   summary  Base: All Respondents                   Base : Unwtd   \n",
       "10461975   summary  Base: All Respondents           Base : Wtd(In ' 000)   \n",
       "10461976  Response  Base: All Respondents        [[2500]]   Under $5,000   \n",
       "10461977  Response  Base: All Respondents     [[7500]]   $5,000 - $9,999   \n",
       "10461978  Response  Base: All Respondents   [[15000]]  $10,000 - $19,999   \n",
       "10461979  Response  Base: All Respondents   [[25000]]  $20,000 - $29,999   \n",
       "10461980  Response  Base: All Respondents   [[35000]]  $30,000 - $39,999   \n",
       "10461981  Response  Base: All Respondents   [[45000]]  $40,000 - $49,999   \n",
       "10461982  Response  Base: All Respondents   [[60000]]  $50,000 - $69,999   \n",
       "10461983  Response  Base: All Respondents   [[85000]]  $70,000 - $99,999   \n",
       "10461984  Response  Base: All Respondents       [[125000]] Over $100,000   \n",
       "10461985   summary  Base: All Respondents                            Sum   \n",
       "10461986   summary  Base: All Respondents                           Mean   \n",
       "\n",
       "               Total Country      Value valtype  \n",
       "1          628187.00      AU   16900.00     abs  \n",
       "2             106.80      AU     109.90     abs  \n",
       "3            9599.00      AU     501.00     abs  \n",
       "4          630927.00      AU   17034.00     abs  \n",
       "5               1.00      AU       3.00    perc  \n",
       "6               4.00      AU       5.00    perc  \n",
       "7              17.00      AU      10.00    perc  \n",
       "8              14.00      AU       8.00    perc  \n",
       "9              12.00      AU      11.00    perc  \n",
       "10             14.00      AU      11.00    perc  \n",
       "11             11.00      AU      11.00    perc  \n",
       "12              9.00      AU       7.00    perc  \n",
       "13              7.00      AU       7.00    perc  \n",
       "14              6.00      AU       8.00    perc  \n",
       "15              5.00      AU       8.00    perc  \n",
       "16              1.00      AU      11.00    perc  \n",
       "17            100.00      AU     100.00    perc  \n",
       "18           9599.00      AU     501.00     abs  \n",
       "19         630927.00      AU   17034.00     abs  \n",
       "20             55.00      AU      50.00    perc  \n",
       "21             45.00      AU      50.00    perc  \n",
       "22            100.00      AU     100.00    perc  \n",
       "23           9599.00      AU     501.00     abs  \n",
       "24         630927.00      AU   17034.00     abs  \n",
       "25             12.00      AU      10.00    perc  \n",
       "26             54.00      AU      57.00    perc  \n",
       "27             24.00      AU      23.00    perc  \n",
       "28              5.00      AU       3.00    perc  \n",
       "29              5.00      AU       6.00    perc  \n",
       "30            100.00      AU     100.00    perc  \n",
       "...              ...     ...        ...     ...  \n",
       "10461957        0.40     SEA       0.30     abs  \n",
       "10461958    30542.00     SEA    3003.00     abs  \n",
       "10461959  2586240.00     SEA  201058.00     abs  \n",
       "10461960       26.00     SEA      27.00    perc  \n",
       "10461961       56.00     SEA      61.00    perc  \n",
       "10461962       18.00     SEA      12.00    perc  \n",
       "10461963      100.00     SEA     100.00    perc  \n",
       "10461964        2.07     SEA       2.16     abs  \n",
       "10461965        0.66     SEA       0.60     abs  \n",
       "10461966    30542.00     SEA    3003.00     abs  \n",
       "10461967  2586240.00     SEA  201058.00     abs  \n",
       "10461968       21.00     SEA      19.00    perc  \n",
       "10461969       57.00     SEA      64.00    perc  \n",
       "10461970       22.00     SEA      17.00    perc  \n",
       "10461971      100.00     SEA     100.00    perc  \n",
       "10461972        1.99     SEA       2.02     abs  \n",
       "10461973        0.66     SEA       0.60     abs  \n",
       "10461974    30542.00     SEA    3003.00     abs  \n",
       "10461975  2586240.00     SEA  201058.00     abs  \n",
       "10461976       18.00     SEA      36.00    perc  \n",
       "10461977       13.00     SEA      24.00    perc  \n",
       "10461978       16.00     SEA      17.00    perc  \n",
       "10461979       13.00     SEA       8.00    perc  \n",
       "10461980       10.00     SEA       5.00    perc  \n",
       "10461981        8.00     SEA       3.00    perc  \n",
       "10461982       10.00     SEA       2.00    perc  \n",
       "10461983        7.00     SEA       2.00    perc  \n",
       "10461984        6.00     SEA       2.00    perc  \n",
       "10461985      100.00     SEA     100.00    perc  \n",
       "10461986    33144.38     SEA   16094.43     abs  \n",
       "\n",
       "[10461986 rows x 14 columns]>"
      ]
     },
     "execution_count": 41,
     "metadata": {},
     "output_type": "execute_result"
    }
   ],
   "source": [
    "data.head"
   ]
  },
  {
   "cell_type": "code",
   "execution_count": 42,
   "metadata": {
    "collapsed": false
   },
   "outputs": [
    {
     "data": {
      "text/plain": [
       "Index(['Unnamed: 0', 'region', 'year', 'quarter', 'category', 'question',\n",
       "       'question_sub', 'stat', 'base', 'Response', 'Total', 'Country', 'Value',\n",
       "       'valtype'],\n",
       "      dtype='object')"
      ]
     },
     "execution_count": 42,
     "metadata": {},
     "output_type": "execute_result"
    }
   ],
   "source": [
    "data.columns"
   ]
  },
  {
   "cell_type": "code",
   "execution_count": 40,
   "metadata": {
    "collapsed": true
   },
   "outputs": [],
   "source": [
    "data = data.reindex(data.index.drop(0))"
   ]
  },
  {
   "cell_type": "code",
   "execution_count": null,
   "metadata": {
    "collapsed": true
   },
   "outputs": [],
   "source": [
    "data.drop()"
   ]
  }
 ],
 "metadata": {
  "kernelspec": {
   "display_name": "Python 3",
   "language": "python",
   "name": "python3"
  },
  "language_info": {
   "codemirror_mode": {
    "name": "ipython",
    "version": 3
   },
   "file_extension": ".py",
   "mimetype": "text/x-python",
   "name": "python",
   "nbconvert_exporter": "python",
   "pygments_lexer": "ipython3",
   "version": "3.5.1"
  }
 },
 "nbformat": 4,
 "nbformat_minor": 0
}
