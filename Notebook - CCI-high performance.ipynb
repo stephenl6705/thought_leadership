{
 "cells": [
  {
   "cell_type": "code",
   "execution_count": 1,
   "metadata": {
    "collapsed": true
   },
   "outputs": [],
   "source": [
    "import pandas as pd\n",
    "from pandas import Series, DataFrame\n",
    "import numpy as np\n",
    "import os\n",
    "import matplotlib.pyplot as plt\n",
    "import cython\n",
    "%matplotlib inline"
   ]
  },
  {
   "cell_type": "code",
   "execution_count": 6,
   "metadata": {
    "collapsed": false
   },
   "outputs": [
    {
     "data": {
      "text/plain": [
       "'/home/langestrst01/projects/thought_leadership'"
      ]
     },
     "execution_count": 6,
     "metadata": {},
     "output_type": "execute_result"
    }
   ],
   "source": [
    "os.getcwd()"
   ]
  },
  {
   "cell_type": "code",
   "execution_count": 3,
   "metadata": {
    "collapsed": false
   },
   "outputs": [
    {
     "data": {
      "text/plain": [
       "'/home/langestrst01/projects/thought_leadership'"
      ]
     },
     "execution_count": 3,
     "metadata": {},
     "output_type": "execute_result"
    }
   ],
   "source": [
    "%pwd"
   ]
  },
  {
   "cell_type": "code",
   "execution_count": 4,
   "metadata": {
    "collapsed": false
   },
   "outputs": [
    {
     "name": "stdout",
     "output_type": "stream",
     "text": [
      "\u001b[0m\u001b[01;34mDashboard\u001b[0m/  \u001b[01;34mFiles Worldbank\u001b[0m/                       Notebook - SPSS.ipynb\r\n",
      "\u001b[01;34mfilescci\u001b[0m/   long_CCI.csv                           \u001b[01;34mR_Code\u001b[0m/\r\n",
      "\u001b[01;34mFiles CCI\u001b[0m/  Notebook - CCI-high performance.ipynb  README.md\r\n",
      "\u001b[01;34mFiles EIU\u001b[0m/  Notebook - CCI.ipynb                   thought_leadership.Rproj\r\n",
      "\u001b[m"
     ]
    }
   ],
   "source": [
    "%ls"
   ]
  },
  {
   "cell_type": "code",
   "execution_count": 15,
   "metadata": {
    "collapsed": false
   },
   "outputs": [],
   "source": [
    "data = pd.read_csv(\"long_CCI.csv\")"
   ]
  },
  {
   "cell_type": "code",
   "execution_count": 9,
   "metadata": {
    "collapsed": false
   },
   "outputs": [
    {
     "data": {
      "text/html": [
       "<div>\n",
       "<table border=\"1\" class=\"dataframe\">\n",
       "  <thead>\n",
       "    <tr style=\"text-align: right;\">\n",
       "      <th></th>\n",
       "      <th>Unnamed: 0</th>\n",
       "      <th>region</th>\n",
       "      <th>year</th>\n",
       "      <th>quarter</th>\n",
       "      <th>category</th>\n",
       "      <th>question</th>\n",
       "      <th>question_sub</th>\n",
       "      <th>stat</th>\n",
       "      <th>base</th>\n",
       "      <th>Response</th>\n",
       "      <th>Total</th>\n",
       "      <th>Country</th>\n",
       "      <th>Value</th>\n",
       "      <th>valtype</th>\n",
       "    </tr>\n",
       "  </thead>\n",
       "  <tbody>\n",
       "    <tr>\n",
       "      <th>0</th>\n",
       "      <td>1</td>\n",
       "      <td>AP</td>\n",
       "      <td>2011</td>\n",
       "      <td>Q1</td>\n",
       "      <td>CCI</td>\n",
       "      <td>Index. CONSUMER CONFIDENCE INDEX</td>\n",
       "      <td>None</td>\n",
       "      <td>summary</td>\n",
       "      <td>Base: All Respondents</td>\n",
       "      <td>Base : Unwtd</td>\n",
       "      <td>9563.0</td>\n",
       "      <td>AU</td>\n",
       "      <td>497.0</td>\n",
       "      <td>abs</td>\n",
       "    </tr>\n",
       "    <tr>\n",
       "      <th>1</th>\n",
       "      <td>2</td>\n",
       "      <td>AP</td>\n",
       "      <td>2011</td>\n",
       "      <td>Q1</td>\n",
       "      <td>CCI</td>\n",
       "      <td>Index. CONSUMER CONFIDENCE INDEX</td>\n",
       "      <td>None</td>\n",
       "      <td>summary</td>\n",
       "      <td>Base: All Respondents</td>\n",
       "      <td>Base : Wtd(In ' 000)</td>\n",
       "      <td>628187.0</td>\n",
       "      <td>AU</td>\n",
       "      <td>16900.0</td>\n",
       "      <td>abs</td>\n",
       "    </tr>\n",
       "    <tr>\n",
       "      <th>2</th>\n",
       "      <td>3</td>\n",
       "      <td>AP</td>\n",
       "      <td>2011</td>\n",
       "      <td>Q1</td>\n",
       "      <td>CCI</td>\n",
       "      <td>Index. CONSUMER CONFIDENCE INDEX</td>\n",
       "      <td>None</td>\n",
       "      <td>Response</td>\n",
       "      <td>Base: All Respondents</td>\n",
       "      <td>Average Index</td>\n",
       "      <td>106.8</td>\n",
       "      <td>AU</td>\n",
       "      <td>109.9</td>\n",
       "      <td>abs</td>\n",
       "    </tr>\n",
       "  </tbody>\n",
       "</table>\n",
       "</div>"
      ],
      "text/plain": [
       "   Unnamed: 0 region  year quarter category                          question  \\\n",
       "0           1     AP  2011      Q1      CCI  Index. CONSUMER CONFIDENCE INDEX   \n",
       "1           2     AP  2011      Q1      CCI  Index. CONSUMER CONFIDENCE INDEX   \n",
       "2           3     AP  2011      Q1      CCI  Index. CONSUMER CONFIDENCE INDEX   \n",
       "\n",
       "  question_sub      stat                    base              Response  \\\n",
       "0         None   summary  Base: All Respondents           Base : Unwtd   \n",
       "1         None   summary  Base: All Respondents   Base : Wtd(In ' 000)   \n",
       "2         None  Response  Base: All Respondents          Average Index   \n",
       "\n",
       "      Total Country    Value valtype  \n",
       "0    9563.0      AU    497.0     abs  \n",
       "1  628187.0      AU  16900.0     abs  \n",
       "2     106.8      AU    109.9     abs  "
      ]
     },
     "execution_count": 9,
     "metadata": {},
     "output_type": "execute_result"
    }
   ],
   "source": [
    "data.head(3)"
   ]
  },
  {
   "cell_type": "code",
   "execution_count": 10,
   "metadata": {
    "collapsed": false
   },
   "outputs": [
    {
     "data": {
      "text/plain": [
       "Index(['Unnamed: 0', 'region', 'year', 'quarter', 'category', 'question',\n",
       "       'question_sub', 'stat', 'base', 'Response', 'Total', 'Country', 'Value',\n",
       "       'valtype'],\n",
       "      dtype='object')"
      ]
     },
     "execution_count": 10,
     "metadata": {},
     "output_type": "execute_result"
    }
   ],
   "source": [
    "data.columns"
   ]
  },
  {
   "cell_type": "code",
   "execution_count": 11,
   "metadata": {
    "collapsed": true
   },
   "outputs": [],
   "source": [
    "region = data.region"
   ]
  },
  {
   "cell_type": "code",
   "execution_count": 41,
   "metadata": {
    "collapsed": false
   },
   "outputs": [],
   "source": [
    "ccidata = data.loc[data.category=='CCI'].loc[data.stat=='Response']"
   ]
  },
  {
   "cell_type": "code",
   "execution_count": 42,
   "metadata": {
    "collapsed": false
   },
   "outputs": [],
   "source": [
    "ccidata = ccidata.loc[data.question=='Index. CONSUMER CONFIDENCE INDEX']"
   ]
  },
  {
   "cell_type": "code",
   "execution_count": 43,
   "metadata": {
    "collapsed": false
   },
   "outputs": [
    {
     "data": {
      "text/html": [
       "<div>\n",
       "<table border=\"1\" class=\"dataframe\">\n",
       "  <thead>\n",
       "    <tr style=\"text-align: right;\">\n",
       "      <th></th>\n",
       "      <th>Unnamed: 0</th>\n",
       "      <th>region</th>\n",
       "      <th>year</th>\n",
       "      <th>quarter</th>\n",
       "      <th>category</th>\n",
       "      <th>question</th>\n",
       "      <th>question_sub</th>\n",
       "      <th>stat</th>\n",
       "      <th>base</th>\n",
       "      <th>Response</th>\n",
       "      <th>Total</th>\n",
       "      <th>Country</th>\n",
       "      <th>Value</th>\n",
       "      <th>valtype</th>\n",
       "    </tr>\n",
       "  </thead>\n",
       "  <tbody>\n",
       "    <tr>\n",
       "      <th>2</th>\n",
       "      <td>3</td>\n",
       "      <td>AP</td>\n",
       "      <td>2011</td>\n",
       "      <td>Q1</td>\n",
       "      <td>CCI</td>\n",
       "      <td>Index. CONSUMER CONFIDENCE INDEX</td>\n",
       "      <td>None</td>\n",
       "      <td>Response</td>\n",
       "      <td>Base: All Respondents</td>\n",
       "      <td>Average Index</td>\n",
       "      <td>106.8</td>\n",
       "      <td>AU</td>\n",
       "      <td>109.9</td>\n",
       "      <td>abs</td>\n",
       "    </tr>\n",
       "    <tr>\n",
       "      <th>2606</th>\n",
       "      <td>2607</td>\n",
       "      <td>AP</td>\n",
       "      <td>2011</td>\n",
       "      <td>Q2</td>\n",
       "      <td>CCI</td>\n",
       "      <td>Index. CONSUMER CONFIDENCE INDEX</td>\n",
       "      <td>None</td>\n",
       "      <td>Response</td>\n",
       "      <td>Base: All Respondents</td>\n",
       "      <td>Average Index</td>\n",
       "      <td>98.1</td>\n",
       "      <td>AU</td>\n",
       "      <td>102.5</td>\n",
       "      <td>abs</td>\n",
       "    </tr>\n",
       "    <tr>\n",
       "      <th>2975</th>\n",
       "      <td>2976</td>\n",
       "      <td>AP</td>\n",
       "      <td>2011</td>\n",
       "      <td>Q3</td>\n",
       "      <td>CCI</td>\n",
       "      <td>Index. CONSUMER CONFIDENCE INDEX</td>\n",
       "      <td>None</td>\n",
       "      <td>Response</td>\n",
       "      <td>Base: All Respondents</td>\n",
       "      <td>Average Index</td>\n",
       "      <td>96.9</td>\n",
       "      <td>AU</td>\n",
       "      <td>97.3</td>\n",
       "      <td>abs</td>\n",
       "    </tr>\n",
       "  </tbody>\n",
       "</table>\n",
       "</div>"
      ],
      "text/plain": [
       "      Unnamed: 0 region  year quarter category  \\\n",
       "2              3     AP  2011      Q1      CCI   \n",
       "2606        2607     AP  2011      Q2      CCI   \n",
       "2975        2976     AP  2011      Q3      CCI   \n",
       "\n",
       "                              question question_sub      stat  \\\n",
       "2     Index. CONSUMER CONFIDENCE INDEX         None  Response   \n",
       "2606  Index. CONSUMER CONFIDENCE INDEX         None  Response   \n",
       "2975  Index. CONSUMER CONFIDENCE INDEX         None  Response   \n",
       "\n",
       "                        base       Response  Total Country  Value valtype  \n",
       "2     Base: All Respondents   Average Index  106.8      AU  109.9     abs  \n",
       "2606  Base: All Respondents   Average Index   98.1      AU  102.5     abs  \n",
       "2975  Base: All Respondents   Average Index   96.9      AU   97.3     abs  "
      ]
     },
     "execution_count": 43,
     "metadata": {},
     "output_type": "execute_result"
    }
   ],
   "source": [
    "ccidata.head(3)"
   ]
  },
  {
   "cell_type": "code",
   "execution_count": 39,
   "metadata": {
    "collapsed": false
   },
   "outputs": [
    {
     "data": {
      "text/plain": [
       "<matplotlib.axes._subplots.AxesSubplot at 0x7fe0c2667550>"
      ]
     },
     "execution_count": 39,
     "metadata": {},
     "output_type": "execute_result"
    },
    {
     "data": {
      "image/png": "[encoded data removed]",
      "text/plain": [
       "<matplotlib.figure.Figure at 0x7fe0c26acac8>"
      ]
     },
     "metadata": {},
     "output_type": "display_data"
    }
   ],
   "source": [
    "plt.figure()\n",
    "ccidata.Value.plot()"
   ]
  },
  {
   "cell_type": "code",
   "execution_count": 68,
   "metadata": {
    "collapsed": false
   },
   "outputs": [],
   "source": [
    "ccivalue = Series(ccidata.Value, index=ccidata.year)"
   ]
  },
  {
   "cell_type": "code",
   "execution_count": 151,
   "metadata": {
    "collapsed": false
   },
   "outputs": [
    {
     "data": {
      "text/plain": [
       "<matplotlib.axes._subplots.AxesSubplot at 0x7fe09a985f60>"
      ]
     },
     "execution_count": 151,
     "metadata": {},
     "output_type": "execute_result"
    },
    {
     "data": {
      "image/png": "[encoded data removed]",
      "text/plain": [
       "<matplotlib.figure.Figure at 0x7fe09a8d3748>"
      ]
     },
     "metadata": {},
     "output_type": "display_data"
    }
   ],
   "source": [
    "plt.figure()\n",
    "cciglobal = ccidata[ccidata.region=='GLOBAL']\n",
    "cci2011 = cciglobal[cciglobal.year==2011]\n",
    "cci2011Q1 = cci2011[cci2011.quarter=='Q1']\n",
    "cci2011Q1.Value.plot(kind='bar')"
   ]
  },
  {
   "cell_type": "code",
   "execution_count": 99,
   "metadata": {
    "collapsed": false
   },
   "outputs": [
    {
     "data": {
      "text/html": [
       "<div>\n",
       "<table border=\"1\" class=\"dataframe\">\n",
       "  <thead>\n",
       "    <tr style=\"text-align: right;\">\n",
       "      <th></th>\n",
       "      <th>Unnamed: 0</th>\n",
       "      <th>region</th>\n",
       "      <th>year</th>\n",
       "      <th>quarter</th>\n",
       "      <th>category</th>\n",
       "      <th>question</th>\n",
       "      <th>question_sub</th>\n",
       "      <th>stat</th>\n",
       "      <th>base</th>\n",
       "      <th>Response</th>\n",
       "      <th>Total</th>\n",
       "      <th>Country</th>\n",
       "      <th>Value</th>\n",
       "      <th>valtype</th>\n",
       "    </tr>\n",
       "  </thead>\n",
       "  <tbody>\n",
       "    <tr>\n",
       "      <th>2</th>\n",
       "      <td>3</td>\n",
       "      <td>AP</td>\n",
       "      <td>2011</td>\n",
       "      <td>Q1</td>\n",
       "      <td>CCI</td>\n",
       "      <td>Index. CONSUMER CONFIDENCE INDEX</td>\n",
       "      <td>None</td>\n",
       "      <td>Response</td>\n",
       "      <td>Base: All Respondents</td>\n",
       "      <td>Average Index</td>\n",
       "      <td>106.8</td>\n",
       "      <td>AU</td>\n",
       "      <td>109.9</td>\n",
       "      <td>abs</td>\n",
       "    </tr>\n",
       "    <tr>\n",
       "      <th>71354</th>\n",
       "      <td>71355</td>\n",
       "      <td>GLOBAL</td>\n",
       "      <td>2011</td>\n",
       "      <td>Q1</td>\n",
       "      <td>CCI</td>\n",
       "      <td>Index. CONSUMER CONFIDENCE INDEX</td>\n",
       "      <td>None</td>\n",
       "      <td>Response</td>\n",
       "      <td>Base: All Respondents</td>\n",
       "      <td>Average Index</td>\n",
       "      <td>92.0</td>\n",
       "      <td>AU</td>\n",
       "      <td>109.9</td>\n",
       "      <td>abs</td>\n",
       "    </tr>\n",
       "    <tr>\n",
       "      <th>111496</th>\n",
       "      <td>111497</td>\n",
       "      <td>REGION</td>\n",
       "      <td>2011</td>\n",
       "      <td>Q1</td>\n",
       "      <td>CCI</td>\n",
       "      <td>Index. CONSUMER CONFIDENCE INDEX</td>\n",
       "      <td>None</td>\n",
       "      <td>Response</td>\n",
       "      <td>Base: All Respondents</td>\n",
       "      <td>Average Index</td>\n",
       "      <td>92.0</td>\n",
       "      <td>AU</td>\n",
       "      <td>NaN</td>\n",
       "      <td>abs</td>\n",
       "    </tr>\n",
       "  </tbody>\n",
       "</table>\n",
       "</div>"
      ],
      "text/plain": [
       "        Unnamed: 0  region  year quarter category  \\\n",
       "2                3      AP  2011      Q1      CCI   \n",
       "71354        71355  GLOBAL  2011      Q1      CCI   \n",
       "111496      111497  REGION  2011      Q1      CCI   \n",
       "\n",
       "                                question question_sub      stat  \\\n",
       "2       Index. CONSUMER CONFIDENCE INDEX         None  Response   \n",
       "71354   Index. CONSUMER CONFIDENCE INDEX         None  Response   \n",
       "111496  Index. CONSUMER CONFIDENCE INDEX         None  Response   \n",
       "\n",
       "                          base       Response  Total Country  Value valtype  \n",
       "2       Base: All Respondents   Average Index  106.8      AU  109.9     abs  \n",
       "71354   Base: All Respondents   Average Index   92.0      AU  109.9     abs  \n",
       "111496  Base: All Respondents   Average Index   92.0      AU    NaN     abs  "
      ]
     },
     "execution_count": 99,
     "metadata": {},
     "output_type": "execute_result"
    }
   ],
   "source": [
    "cci2011Q1au"
   ]
  },
  {
   "cell_type": "code",
   "execution_count": 142,
   "metadata": {
    "collapsed": false
   },
   "outputs": [
    {
     "data": {
      "text/plain": [
       "Int64Index([       0,        1,        2,        3,        4,        5,\n",
       "                   6,        7,        8,        9,\n",
       "            ...\n",
       "            10461977, 10461978, 10461979, 10461980, 10461981, 10461982,\n",
       "            10461983, 10461984, 10461985, 10461986],\n",
       "           dtype='int64', length=10461987)"
      ]
     },
     "execution_count": 142,
     "metadata": {},
     "output_type": "execute_result"
    }
   ],
   "source": [
    "data.index"
   ]
  },
  {
   "cell_type": "code",
   "execution_count": 149,
   "metadata": {
    "collapsed": false
   },
   "outputs": [
    {
     "data": {
      "text/plain": [
       "Unnamed: 0                                               10461987\n",
       "region                                                     REGION\n",
       "year                                                         2015\n",
       "quarter                                                        Q4\n",
       "category                                                      CCI\n",
       "question        Q16. Which of the following categories best de...\n",
       "question_sub                                                 None\n",
       "stat                                                      summary\n",
       "base                                       Base: All Respondents \n",
       "Response                                                     Mean\n",
       "Total                                                     33144.4\n",
       "Country                                                       SEA\n",
       "Value                                                     16094.4\n",
       "valtype                                                       abs\n",
       "Name: 10461986, dtype: object"
      ]
     },
     "execution_count": 149,
     "metadata": {},
     "output_type": "execute_result"
    }
   ],
   "source": [
    "data.ix[10461986]"
   ]
  },
  {
   "cell_type": "code",
   "execution_count": 4,
   "metadata": {
    "collapsed": false
   },
   "outputs": [],
   "source": [
    "data = data.sort_values(by=['category','question','question_sub','Response',\n",
    "                    'region','Country','year','quarter'])"
   ]
  },
  {
   "cell_type": "code",
   "execution_count": 16,
   "metadata": {
    "collapsed": false
   },
   "outputs": [],
   "source": [
    "dataresp = data[data.stat == 'Response']\n",
    "dataresp.head(3)\n",
    "del data"
   ]
  },
  {
   "cell_type": "code",
   "execution_count": 17,
   "metadata": {
    "collapsed": true
   },
   "outputs": [],
   "source": [
    "cci_index = dataresp[dataresp.question == 'Index. CONSUMER CONFIDENCE INDEX']\n",
    "del dataresp"
   ]
  },
  {
   "cell_type": "code",
   "execution_count": 10,
   "metadata": {
    "collapsed": false
   },
   "outputs": [
    {
     "data": {
      "text/html": [
       "<div>\n",
       "<table border=\"1\" class=\"dataframe\">\n",
       "  <thead>\n",
       "    <tr style=\"text-align: right;\">\n",
       "      <th></th>\n",
       "      <th>Unnamed: 0</th>\n",
       "      <th>region</th>\n",
       "      <th>year</th>\n",
       "      <th>quarter</th>\n",
       "      <th>category</th>\n",
       "      <th>question</th>\n",
       "      <th>question_sub</th>\n",
       "      <th>stat</th>\n",
       "      <th>base</th>\n",
       "      <th>Response</th>\n",
       "      <th>Total</th>\n",
       "      <th>Country</th>\n",
       "      <th>Value</th>\n",
       "      <th>valtype</th>\n",
       "    </tr>\n",
       "  </thead>\n",
       "  <tbody>\n",
       "    <tr>\n",
       "      <th>6283879</th>\n",
       "      <td>6283880</td>\n",
       "      <td>SEA</td>\n",
       "      <td>2015</td>\n",
       "      <td>Q3</td>\n",
       "      <td>CCI</td>\n",
       "      <td>Index. CONSUMER CONFIDENCE INDEX</td>\n",
       "      <td>index by sea</td>\n",
       "      <td>Response</td>\n",
       "      <td>Base: All Respondents</td>\n",
       "      <td>Average Index</td>\n",
       "      <td>109.24</td>\n",
       "      <td>UA</td>\n",
       "      <td>NaN</td>\n",
       "      <td>abs</td>\n",
       "    </tr>\n",
       "    <tr>\n",
       "      <th>7800109</th>\n",
       "      <td>7800110</td>\n",
       "      <td>SEA</td>\n",
       "      <td>2015</td>\n",
       "      <td>Q3</td>\n",
       "      <td>CCI</td>\n",
       "      <td>Index. CONSUMER CONFIDENCE INDEX</td>\n",
       "      <td>index by sea</td>\n",
       "      <td>Response</td>\n",
       "      <td>Base: All Respondents</td>\n",
       "      <td>Average Index</td>\n",
       "      <td>109.24</td>\n",
       "      <td>US</td>\n",
       "      <td>NaN</td>\n",
       "      <td>abs</td>\n",
       "    </tr>\n",
       "    <tr>\n",
       "      <th>8254978</th>\n",
       "      <td>8254979</td>\n",
       "      <td>SEA</td>\n",
       "      <td>2015</td>\n",
       "      <td>Q3</td>\n",
       "      <td>CCI</td>\n",
       "      <td>Index. CONSUMER CONFIDENCE INDEX</td>\n",
       "      <td>index by sea</td>\n",
       "      <td>Response</td>\n",
       "      <td>Base: All Respondents</td>\n",
       "      <td>Average Index</td>\n",
       "      <td>109.24</td>\n",
       "      <td>VE</td>\n",
       "      <td>NaN</td>\n",
       "      <td>abs</td>\n",
       "    </tr>\n",
       "    <tr>\n",
       "      <th>1886812</th>\n",
       "      <td>1886813</td>\n",
       "      <td>SEA</td>\n",
       "      <td>2015</td>\n",
       "      <td>Q3</td>\n",
       "      <td>CCI</td>\n",
       "      <td>Index. CONSUMER CONFIDENCE INDEX</td>\n",
       "      <td>index by sea</td>\n",
       "      <td>Response</td>\n",
       "      <td>Base: All Respondents</td>\n",
       "      <td>Average Index</td>\n",
       "      <td>109.24</td>\n",
       "      <td>VN</td>\n",
       "      <td>105.02</td>\n",
       "      <td>abs</td>\n",
       "    </tr>\n",
       "    <tr>\n",
       "      <th>6890371</th>\n",
       "      <td>6890372</td>\n",
       "      <td>SEA</td>\n",
       "      <td>2015</td>\n",
       "      <td>Q3</td>\n",
       "      <td>CCI</td>\n",
       "      <td>Index. CONSUMER CONFIDENCE INDEX</td>\n",
       "      <td>index by sea</td>\n",
       "      <td>Response</td>\n",
       "      <td>Base: All Respondents</td>\n",
       "      <td>Average Index</td>\n",
       "      <td>109.24</td>\n",
       "      <td>ZA</td>\n",
       "      <td>NaN</td>\n",
       "      <td>abs</td>\n",
       "    </tr>\n",
       "  </tbody>\n",
       "</table>\n",
       "</div>"
      ],
      "text/plain": [
       "         Unnamed: 0 region  year quarter category  \\\n",
       "6283879     6283880    SEA  2015      Q3      CCI   \n",
       "7800109     7800110    SEA  2015      Q3      CCI   \n",
       "8254978     8254979    SEA  2015      Q3      CCI   \n",
       "1886812     1886813    SEA  2015      Q3      CCI   \n",
       "6890371     6890372    SEA  2015      Q3      CCI   \n",
       "\n",
       "                                 question  question_sub      stat  \\\n",
       "6283879  Index. CONSUMER CONFIDENCE INDEX  index by sea  Response   \n",
       "7800109  Index. CONSUMER CONFIDENCE INDEX  index by sea  Response   \n",
       "8254978  Index. CONSUMER CONFIDENCE INDEX  index by sea  Response   \n",
       "1886812  Index. CONSUMER CONFIDENCE INDEX  index by sea  Response   \n",
       "6890371  Index. CONSUMER CONFIDENCE INDEX  index by sea  Response   \n",
       "\n",
       "                           base       Response   Total Country   Value valtype  \n",
       "6283879  Base: All Respondents   Average Index  109.24      UA     NaN     abs  \n",
       "7800109  Base: All Respondents   Average Index  109.24      US     NaN     abs  \n",
       "8254978  Base: All Respondents   Average Index  109.24      VE     NaN     abs  \n",
       "1886812  Base: All Respondents   Average Index  109.24      VN  105.02     abs  \n",
       "6890371  Base: All Respondents   Average Index  109.24      ZA     NaN     abs  "
      ]
     },
     "execution_count": 10,
     "metadata": {},
     "output_type": "execute_result"
    }
   ],
   "source": [
    "cci_index.tail()"
   ]
  },
  {
   "cell_type": "code",
   "execution_count": 18,
   "metadata": {
    "collapsed": false
   },
   "outputs": [],
   "source": [
    "cci_index = cci_index[cci_index.Value.notnull()]"
   ]
  },
  {
   "cell_type": "code",
   "execution_count": 19,
   "metadata": {
    "collapsed": false
   },
   "outputs": [],
   "source": [
    "means = cci_index['Value'][cci_index['region']=='AP'].groupby(\n",
    "    [cci_index['Country'],cci_index['year'],cci_index['quarter']]).mean()"
   ]
  },
  {
   "cell_type": "code",
   "execution_count": 22,
   "metadata": {
    "collapsed": false
   },
   "outputs": [
    {
     "data": {
      "text/plain": [
       "MultiIndex(levels=[[u'AU', u'CN', u'HK', u'ID', u'IN', u'JP', u'KO', u'MY', u'NZ', u'PH', u'SG', u'TH', u'TW', u'VN'], [2011, 2012, 2013, 2014, 2015], [u'Q1', u'Q2', u'Q3', u'Q4']],\n",
       "           labels=[[0, 0, 0, 0, 0, 0, 0, 0, 0, 0, 0, 0, 0, 0, 0, 0, 0, 0, 0, 1, 1, 1, 1, 1, 1, 1, 1, 1, 1, 1, 1, 1, 1, 1, 1, 1, 1, 1, 2, 2, 2, 2, 2, 2, 2, 2, 2, 2, 2, 2, 2, 2, 2, 2, 2, 2, 2, 3, 3, 3, 3, 3, 3, 3, 3, 3, 3, 3, 3, 3, 3, 3, 3, 3, 3, 3, 4, 4, 4, 4, 4, 4, 4, 4, 4, 4, 4, 4, 4, 4, 4, 4, 4, 4, 4, 5, 5, 5, 5, 5, 5, 5, 5, 5, 5, 5, 5, 5, 5, 5, 5, 5, 5, 6, 6, 6, 6, 6, 6, 6, 6, 6, 6, 6, 6, 6, 6, 6, 6, 6, 6, 6, 7, 7, 7, 7, 7, 7, 7, 7, 7, 7, 7, 7, 7, 7, 7, 7, 7, 7, 7, 8, 8, 8, 8, 8, 8, 8, 8, 8, 8, 8, 8, 8, 8, 8, 8, 8, 8, 8, 9, 9, 9, 9, 9, 9, 9, 9, 9, 9, 9, 9, 9, 9, 9, 9, 9, 9, 9, 10, 10, 10, 10, 10, 10, 10, 10, 10, 10, 10, 10, 10, 10, 10, 10, 10, 10, 10, 11, 11, 11, 11, 11, 11, 11, 11, 11, 11, 11, 11, 11, 11, 11, 11, 11, 11, 11, 12, 12, 12, 12, 12, 12, 12, 12, 12, 12, 12, 12, 12, 12, 12, 12, 12, 12, 12, 13, 13, 13, 13, 13, 13, 13, 13, 13, 13, 13, 13, 13, 13, 13, 13, 13, 13, 13], [0, 0, 0, 0, 1, 1, 1, 1, 2, 2, 2, 2, 3, 3, 3, 3, 4, 4, 4, 0, 0, 0, 0, 1, 1, 1, 1, 2, 2, 2, 2, 3, 3, 3, 3, 4, 4, 4, 0, 0, 0, 0, 1, 1, 1, 1, 2, 2, 2, 2, 3, 3, 3, 3, 4, 4, 4, 0, 0, 0, 0, 1, 1, 1, 1, 2, 2, 2, 2, 3, 3, 3, 3, 4, 4, 4, 0, 0, 0, 0, 1, 1, 1, 1, 2, 2, 2, 2, 3, 3, 3, 3, 4, 4, 4, 0, 0, 0, 1, 1, 1, 1, 2, 2, 2, 2, 3, 3, 3, 3, 4, 4, 4, 0, 0, 0, 0, 1, 1, 1, 1, 2, 2, 2, 2, 3, 3, 3, 3, 4, 4, 4, 0, 0, 0, 0, 1, 1, 1, 1, 2, 2, 2, 2, 3, 3, 3, 3, 4, 4, 4, 0, 0, 0, 0, 1, 1, 1, 1, 2, 2, 2, 2, 3, 3, 3, 3, 4, 4, 4, 0, 0, 0, 0, 1, 1, 1, 1, 2, 2, 2, 2, 3, 3, 3, 3, 4, 4, 4, 0, 0, 0, 0, 1, 1, 1, 1, 2, 2, 2, 2, 3, 3, 3, 3, 4, 4, 4, 0, 0, 0, 0, 1, 1, 1, 1, 2, 2, 2, 2, 3, 3, 3, 3, 4, 4, 4, 0, 0, 0, 0, 1, 1, 1, 1, 2, 2, 2, 2, 3, 3, 3, 3, 4, 4, 4, 0, 0, 0, 0, 1, 1, 1, 1, 2, 2, 2, 2, 3, 3, 3, 3, 4, 4, 4], [0, 1, 2, 3, 0, 1, 2, 3, 0, 1, 2, 3, 0, 1, 2, 3, 1, 2, 3, 0, 1, 2, 3, 0, 1, 2, 3, 0, 1, 2, 3, 0, 1, 2, 3, 1, 2, 3, 0, 1, 2, 3, 0, 1, 2, 3, 0, 1, 2, 3, 0, 1, 2, 3, 1, 2, 3, 0, 1, 2, 3, 0, 1, 2, 3, 0, 1, 2, 3, 0, 1, 2, 3, 1, 2, 3, 0, 1, 2, 3, 0, 1, 2, 3, 0, 1, 2, 3, 0, 1, 2, 3, 1, 2, 3, 1, 2, 3, 0, 1, 2, 3, 0, 1, 2, 3, 0, 1, 2, 3, 1, 2, 3, 0, 1, 2, 3, 0, 1, 2, 3, 0, 1, 2, 3, 0, 1, 2, 3, 1, 2, 3, 0, 1, 2, 3, 0, 1, 2, 3, 0, 1, 2, 3, 0, 1, 2, 3, 1, 2, 3, 0, 1, 2, 3, 0, 1, 2, 3, 0, 1, 2, 3, 0, 1, 2, 3, 1, 2, 3, 0, 1, 2, 3, 0, 1, 2, 3, 0, 1, 2, 3, 0, 1, 2, 3, 1, 2, 3, 0, 1, 2, 3, 0, 1, 2, 3, 0, 1, 2, 3, 0, 1, 2, 3, 1, 2, 3, 0, 1, 2, 3, 0, 1, 2, 3, 0, 1, 2, 3, 0, 1, 2, 3, 1, 2, 3, 0, 1, 2, 3, 0, 1, 2, 3, 0, 1, 2, 3, 0, 1, 2, 3, 1, 2, 3, 0, 1, 2, 3, 0, 1, 2, 3, 0, 1, 2, 3, 0, 1, 2, 3, 1, 2, 3]],\n",
       "           names=[u'Country', u'year', u'quarter'])"
      ]
     },
     "execution_count": 22,
     "metadata": {},
     "output_type": "execute_result"
    }
   ],
   "source": [
    "means.index"
   ]
  },
  {
   "cell_type": "code",
   "execution_count": 25,
   "metadata": {
    "collapsed": false
   },
   "outputs": [
    {
     "data": {
      "text/html": [
       "<div>\n",
       "<table border=\"1\" class=\"dataframe\">\n",
       "  <thead>\n",
       "    <tr>\n",
       "      <th>quarter</th>\n",
       "      <th colspan=\"5\" halign=\"left\">Q1</th>\n",
       "      <th colspan=\"5\" halign=\"left\">Q2</th>\n",
       "      <th colspan=\"5\" halign=\"left\">Q3</th>\n",
       "      <th colspan=\"5\" halign=\"left\">Q4</th>\n",
       "    </tr>\n",
       "    <tr>\n",
       "      <th>year</th>\n",
       "      <th>2011</th>\n",
       "      <th>2012</th>\n",
       "      <th>2013</th>\n",
       "      <th>2014</th>\n",
       "      <th>2015</th>\n",
       "      <th>2011</th>\n",
       "      <th>2012</th>\n",
       "      <th>2013</th>\n",
       "      <th>2014</th>\n",
       "      <th>2015</th>\n",
       "      <th>2011</th>\n",
       "      <th>2012</th>\n",
       "      <th>2013</th>\n",
       "      <th>2014</th>\n",
       "      <th>2015</th>\n",
       "      <th>2011</th>\n",
       "      <th>2012</th>\n",
       "      <th>2013</th>\n",
       "      <th>2014</th>\n",
       "      <th>2015</th>\n",
       "    </tr>\n",
       "    <tr>\n",
       "      <th>Country</th>\n",
       "      <th></th>\n",
       "      <th></th>\n",
       "      <th></th>\n",
       "      <th></th>\n",
       "      <th></th>\n",
       "      <th></th>\n",
       "      <th></th>\n",
       "      <th></th>\n",
       "      <th></th>\n",
       "      <th></th>\n",
       "      <th></th>\n",
       "      <th></th>\n",
       "      <th></th>\n",
       "      <th></th>\n",
       "      <th></th>\n",
       "      <th></th>\n",
       "      <th></th>\n",
       "      <th></th>\n",
       "      <th></th>\n",
       "      <th></th>\n",
       "    </tr>\n",
       "  </thead>\n",
       "  <tbody>\n",
       "    <tr>\n",
       "      <th>AU</th>\n",
       "      <td>109.9</td>\n",
       "      <td>94.8</td>\n",
       "      <td>93.45</td>\n",
       "      <td>88.74</td>\n",
       "      <td>NaN</td>\n",
       "      <td>102.5</td>\n",
       "      <td>90.3</td>\n",
       "      <td>97.59</td>\n",
       "      <td>85.49</td>\n",
       "      <td>88.83</td>\n",
       "      <td>97.3</td>\n",
       "      <td>97.78</td>\n",
       "      <td>96.23</td>\n",
       "      <td>96.50</td>\n",
       "      <td>93.17</td>\n",
       "      <td>102.7</td>\n",
       "      <td>95.14</td>\n",
       "      <td>94.51</td>\n",
       "      <td>93.04</td>\n",
       "      <td>96.49</td>\n",
       "    </tr>\n",
       "    <tr>\n",
       "      <th>CN</th>\n",
       "      <td>107.6</td>\n",
       "      <td>110.4</td>\n",
       "      <td>107.84</td>\n",
       "      <td>110.60</td>\n",
       "      <td>NaN</td>\n",
       "      <td>104.8</td>\n",
       "      <td>105.3</td>\n",
       "      <td>109.64</td>\n",
       "      <td>111.00</td>\n",
       "      <td>106.83</td>\n",
       "      <td>104.2</td>\n",
       "      <td>105.89</td>\n",
       "      <td>109.58</td>\n",
       "      <td>111.13</td>\n",
       "      <td>106.42</td>\n",
       "      <td>108.0</td>\n",
       "      <td>108.05</td>\n",
       "      <td>110.85</td>\n",
       "      <td>107.23</td>\n",
       "      <td>107.45</td>\n",
       "    </tr>\n",
       "    <tr>\n",
       "      <th>HK</th>\n",
       "      <td>106.7</td>\n",
       "      <td>102.8</td>\n",
       "      <td>107.97</td>\n",
       "      <td>111.15</td>\n",
       "      <td>NaN</td>\n",
       "      <td>107.0</td>\n",
       "      <td>103.5</td>\n",
       "      <td>107.09</td>\n",
       "      <td>102.98</td>\n",
       "      <td>104.96</td>\n",
       "      <td>103.6</td>\n",
       "      <td>88.85</td>\n",
       "      <td>105.54</td>\n",
       "      <td>107.07</td>\n",
       "      <td>99.17</td>\n",
       "      <td>99.0</td>\n",
       "      <td>85.24</td>\n",
       "      <td>105.31</td>\n",
       "      <td>106.65</td>\n",
       "      <td>99.38</td>\n",
       "    </tr>\n",
       "    <tr>\n",
       "      <th>ID</th>\n",
       "      <td>115.8</td>\n",
       "      <td>118.0</td>\n",
       "      <td>122.15</td>\n",
       "      <td>123.74</td>\n",
       "      <td>NaN</td>\n",
       "      <td>112.2</td>\n",
       "      <td>120.1</td>\n",
       "      <td>123.87</td>\n",
       "      <td>123.00</td>\n",
       "      <td>120.21</td>\n",
       "      <td>114.0</td>\n",
       "      <td>118.77</td>\n",
       "      <td>119.81</td>\n",
       "      <td>125.17</td>\n",
       "      <td>115.55</td>\n",
       "      <td>116.6</td>\n",
       "      <td>117.15</td>\n",
       "      <td>123.52</td>\n",
       "      <td>120.21</td>\n",
       "      <td>114.55</td>\n",
       "    </tr>\n",
       "    <tr>\n",
       "      <th>IN</th>\n",
       "      <td>130.8</td>\n",
       "      <td>123.4</td>\n",
       "      <td>120.10</td>\n",
       "      <td>120.88</td>\n",
       "      <td>NaN</td>\n",
       "      <td>126.2</td>\n",
       "      <td>118.9</td>\n",
       "      <td>118.46</td>\n",
       "      <td>127.97</td>\n",
       "      <td>130.62</td>\n",
       "      <td>121.4</td>\n",
       "      <td>118.98</td>\n",
       "      <td>111.81</td>\n",
       "      <td>125.91</td>\n",
       "      <td>130.71</td>\n",
       "      <td>122.2</td>\n",
       "      <td>120.69</td>\n",
       "      <td>115.31</td>\n",
       "      <td>128.67</td>\n",
       "      <td>131.07</td>\n",
       "    </tr>\n",
       "    <tr>\n",
       "      <th>JP</th>\n",
       "      <td>NaN</td>\n",
       "      <td>57.6</td>\n",
       "      <td>72.88</td>\n",
       "      <td>80.91</td>\n",
       "      <td>NaN</td>\n",
       "      <td>55.1</td>\n",
       "      <td>56.5</td>\n",
       "      <td>77.67</td>\n",
       "      <td>72.90</td>\n",
       "      <td>82.82</td>\n",
       "      <td>56.3</td>\n",
       "      <td>58.88</td>\n",
       "      <td>74.14</td>\n",
       "      <td>76.76</td>\n",
       "      <td>79.70</td>\n",
       "      <td>55.7</td>\n",
       "      <td>58.50</td>\n",
       "      <td>80.48</td>\n",
       "      <td>72.99</td>\n",
       "      <td>79.49</td>\n",
       "    </tr>\n",
       "    <tr>\n",
       "      <th>KO</th>\n",
       "      <td>51.2</td>\n",
       "      <td>48.8</td>\n",
       "      <td>51.26</td>\n",
       "      <td>50.63</td>\n",
       "      <td>NaN</td>\n",
       "      <td>51.9</td>\n",
       "      <td>49.6</td>\n",
       "      <td>51.20</td>\n",
       "      <td>53.00</td>\n",
       "      <td>45.27</td>\n",
       "      <td>48.6</td>\n",
       "      <td>39.73</td>\n",
       "      <td>53.71</td>\n",
       "      <td>51.66</td>\n",
       "      <td>49.07</td>\n",
       "      <td>45.9</td>\n",
       "      <td>37.97</td>\n",
       "      <td>48.53</td>\n",
       "      <td>48.37</td>\n",
       "      <td>45.54</td>\n",
       "    </tr>\n",
       "    <tr>\n",
       "      <th>MY</th>\n",
       "      <td>104.7</td>\n",
       "      <td>106.6</td>\n",
       "      <td>107.29</td>\n",
       "      <td>92.34</td>\n",
       "      <td>NaN</td>\n",
       "      <td>110.3</td>\n",
       "      <td>111.2</td>\n",
       "      <td>102.95</td>\n",
       "      <td>93.25</td>\n",
       "      <td>88.53</td>\n",
       "      <td>101.3</td>\n",
       "      <td>104.69</td>\n",
       "      <td>100.99</td>\n",
       "      <td>99.09</td>\n",
       "      <td>78.37</td>\n",
       "      <td>101.0</td>\n",
       "      <td>102.93</td>\n",
       "      <td>98.20</td>\n",
       "      <td>89.13</td>\n",
       "      <td>80.21</td>\n",
       "    </tr>\n",
       "    <tr>\n",
       "      <th>NZ</th>\n",
       "      <td>94.8</td>\n",
       "      <td>90.7</td>\n",
       "      <td>90.02</td>\n",
       "      <td>99.62</td>\n",
       "      <td>NaN</td>\n",
       "      <td>97.0</td>\n",
       "      <td>91.1</td>\n",
       "      <td>93.37</td>\n",
       "      <td>98.73</td>\n",
       "      <td>99.27</td>\n",
       "      <td>98.0</td>\n",
       "      <td>94.70</td>\n",
       "      <td>96.73</td>\n",
       "      <td>101.73</td>\n",
       "      <td>93.96</td>\n",
       "      <td>90.1</td>\n",
       "      <td>94.20</td>\n",
       "      <td>100.34</td>\n",
       "      <td>101.19</td>\n",
       "      <td>98.77</td>\n",
       "    </tr>\n",
       "    <tr>\n",
       "      <th>PH</th>\n",
       "      <td>109.7</td>\n",
       "      <td>117.7</td>\n",
       "      <td>118.41</td>\n",
       "      <td>115.89</td>\n",
       "      <td>NaN</td>\n",
       "      <td>115.4</td>\n",
       "      <td>116.3</td>\n",
       "      <td>121.42</td>\n",
       "      <td>120.37</td>\n",
       "      <td>122.05</td>\n",
       "      <td>112.4</td>\n",
       "      <td>117.92</td>\n",
       "      <td>117.90</td>\n",
       "      <td>114.71</td>\n",
       "      <td>117.05</td>\n",
       "      <td>117.4</td>\n",
       "      <td>119.32</td>\n",
       "      <td>113.67</td>\n",
       "      <td>119.99</td>\n",
       "      <td>117.35</td>\n",
       "    </tr>\n",
       "    <tr>\n",
       "      <th>SG</th>\n",
       "      <td>109.3</td>\n",
       "      <td>96.1</td>\n",
       "      <td>95.41</td>\n",
       "      <td>98.90</td>\n",
       "      <td>NaN</td>\n",
       "      <td>102.5</td>\n",
       "      <td>93.9</td>\n",
       "      <td>94.55</td>\n",
       "      <td>98.17</td>\n",
       "      <td>99.15</td>\n",
       "      <td>94.0</td>\n",
       "      <td>97.60</td>\n",
       "      <td>98.36</td>\n",
       "      <td>103.09</td>\n",
       "      <td>100.85</td>\n",
       "      <td>93.6</td>\n",
       "      <td>94.90</td>\n",
       "      <td>97.09</td>\n",
       "      <td>99.50</td>\n",
       "      <td>94.43</td>\n",
       "    </tr>\n",
       "    <tr>\n",
       "      <th>TH</th>\n",
       "      <td>105.5</td>\n",
       "      <td>106.9</td>\n",
       "      <td>115.22</td>\n",
       "      <td>108.42</td>\n",
       "      <td>NaN</td>\n",
       "      <td>105.2</td>\n",
       "      <td>103.5</td>\n",
       "      <td>114.34</td>\n",
       "      <td>104.99</td>\n",
       "      <td>110.82</td>\n",
       "      <td>109.1</td>\n",
       "      <td>112.00</td>\n",
       "      <td>111.76</td>\n",
       "      <td>113.13</td>\n",
       "      <td>111.07</td>\n",
       "      <td>104.0</td>\n",
       "      <td>114.57</td>\n",
       "      <td>109.10</td>\n",
       "      <td>110.54</td>\n",
       "      <td>114.49</td>\n",
       "    </tr>\n",
       "    <tr>\n",
       "      <th>TW</th>\n",
       "      <td>91.1</td>\n",
       "      <td>83.7</td>\n",
       "      <td>77.93</td>\n",
       "      <td>75.77</td>\n",
       "      <td>NaN</td>\n",
       "      <td>89.4</td>\n",
       "      <td>71.5</td>\n",
       "      <td>75.17</td>\n",
       "      <td>75.41</td>\n",
       "      <td>83.85</td>\n",
       "      <td>86.8</td>\n",
       "      <td>69.50</td>\n",
       "      <td>75.92</td>\n",
       "      <td>79.20</td>\n",
       "      <td>72.29</td>\n",
       "      <td>71.3</td>\n",
       "      <td>66.34</td>\n",
       "      <td>72.66</td>\n",
       "      <td>76.76</td>\n",
       "      <td>68.72</td>\n",
       "    </tr>\n",
       "    <tr>\n",
       "      <th>VN</th>\n",
       "      <td>97.5</td>\n",
       "      <td>94.4</td>\n",
       "      <td>95.77</td>\n",
       "      <td>98.75</td>\n",
       "      <td>NaN</td>\n",
       "      <td>97.2</td>\n",
       "      <td>94.6</td>\n",
       "      <td>95.43</td>\n",
       "      <td>97.66</td>\n",
       "      <td>103.87</td>\n",
       "      <td>95.8</td>\n",
       "      <td>87.44</td>\n",
       "      <td>96.74</td>\n",
       "      <td>101.59</td>\n",
       "      <td>105.02</td>\n",
       "      <td>98.6</td>\n",
       "      <td>88.24</td>\n",
       "      <td>98.28</td>\n",
       "      <td>105.57</td>\n",
       "      <td>108.22</td>\n",
       "    </tr>\n",
       "  </tbody>\n",
       "</table>\n",
       "</div>"
      ],
      "text/plain": [
       "quarter     Q1                                 Q2                         \\\n",
       "year      2011   2012    2013    2014 2015   2011   2012    2013    2014   \n",
       "Country                                                                    \n",
       "AU       109.9   94.8   93.45   88.74  NaN  102.5   90.3   97.59   85.49   \n",
       "CN       107.6  110.4  107.84  110.60  NaN  104.8  105.3  109.64  111.00   \n",
       "HK       106.7  102.8  107.97  111.15  NaN  107.0  103.5  107.09  102.98   \n",
       "ID       115.8  118.0  122.15  123.74  NaN  112.2  120.1  123.87  123.00   \n",
       "IN       130.8  123.4  120.10  120.88  NaN  126.2  118.9  118.46  127.97   \n",
       "JP         NaN   57.6   72.88   80.91  NaN   55.1   56.5   77.67   72.90   \n",
       "KO        51.2   48.8   51.26   50.63  NaN   51.9   49.6   51.20   53.00   \n",
       "MY       104.7  106.6  107.29   92.34  NaN  110.3  111.2  102.95   93.25   \n",
       "NZ        94.8   90.7   90.02   99.62  NaN   97.0   91.1   93.37   98.73   \n",
       "PH       109.7  117.7  118.41  115.89  NaN  115.4  116.3  121.42  120.37   \n",
       "SG       109.3   96.1   95.41   98.90  NaN  102.5   93.9   94.55   98.17   \n",
       "TH       105.5  106.9  115.22  108.42  NaN  105.2  103.5  114.34  104.99   \n",
       "TW        91.1   83.7   77.93   75.77  NaN   89.4   71.5   75.17   75.41   \n",
       "VN        97.5   94.4   95.77   98.75  NaN   97.2   94.6   95.43   97.66   \n",
       "\n",
       "quarter             Q3                                     Q4                  \\\n",
       "year       2015   2011    2012    2013    2014    2015   2011    2012    2013   \n",
       "Country                                                                         \n",
       "AU        88.83   97.3   97.78   96.23   96.50   93.17  102.7   95.14   94.51   \n",
       "CN       106.83  104.2  105.89  109.58  111.13  106.42  108.0  108.05  110.85   \n",
       "HK       104.96  103.6   88.85  105.54  107.07   99.17   99.0   85.24  105.31   \n",
       "ID       120.21  114.0  118.77  119.81  125.17  115.55  116.6  117.15  123.52   \n",
       "IN       130.62  121.4  118.98  111.81  125.91  130.71  122.2  120.69  115.31   \n",
       "JP        82.82   56.3   58.88   74.14   76.76   79.70   55.7   58.50   80.48   \n",
       "KO        45.27   48.6   39.73   53.71   51.66   49.07   45.9   37.97   48.53   \n",
       "MY        88.53  101.3  104.69  100.99   99.09   78.37  101.0  102.93   98.20   \n",
       "NZ        99.27   98.0   94.70   96.73  101.73   93.96   90.1   94.20  100.34   \n",
       "PH       122.05  112.4  117.92  117.90  114.71  117.05  117.4  119.32  113.67   \n",
       "SG        99.15   94.0   97.60   98.36  103.09  100.85   93.6   94.90   97.09   \n",
       "TH       110.82  109.1  112.00  111.76  113.13  111.07  104.0  114.57  109.10   \n",
       "TW        83.85   86.8   69.50   75.92   79.20   72.29   71.3   66.34   72.66   \n",
       "VN       103.87   95.8   87.44   96.74  101.59  105.02   98.6   88.24   98.28   \n",
       "\n",
       "quarter                  \n",
       "year       2014    2015  \n",
       "Country                  \n",
       "AU        93.04   96.49  \n",
       "CN       107.23  107.45  \n",
       "HK       106.65   99.38  \n",
       "ID       120.21  114.55  \n",
       "IN       128.67  131.07  \n",
       "JP        72.99   79.49  \n",
       "KO        48.37   45.54  \n",
       "MY        89.13   80.21  \n",
       "NZ       101.19   98.77  \n",
       "PH       119.99  117.35  \n",
       "SG        99.50   94.43  \n",
       "TH       110.54  114.49  \n",
       "TW        76.76   68.72  \n",
       "VN       105.57  108.22  "
      ]
     },
     "execution_count": 25,
     "metadata": {},
     "output_type": "execute_result"
    }
   ],
   "source": [
    "means.unstack().unstack()"
   ]
  },
  {
   "cell_type": "code",
   "execution_count": null,
   "metadata": {
    "collapsed": true
   },
   "outputs": [],
   "source": []
  }
 ],
 "metadata": {
  "kernelspec": {
   "display_name": "Python 2",
   "language": "python",
   "name": "python2"
  },
  "language_info": {
   "codemirror_mode": {
    "name": "ipython",
    "version": 2
   },
   "file_extension": ".py",
   "mimetype": "text/x-python",
   "name": "python",
   "nbconvert_exporter": "python",
   "pygments_lexer": "ipython2",
   "version": "2.7.11"
  }
 },
 "nbformat": 4,
 "nbformat_minor": 0
}
